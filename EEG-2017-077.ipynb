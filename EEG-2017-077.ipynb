{
 "cells": [
  {
   "cell_type": "code",
   "execution_count": 20,
   "metadata": {},
   "outputs": [],
   "source": [
    "import matplotlib\n",
    "import matplotlib.pyplot as plt\n",
    "import numpy as np\n",
    "import math"
   ]
  },
  {
   "cell_type": "code",
   "execution_count": 21,
   "metadata": {},
   "outputs": [],
   "source": [
    "v = np.arange(-157.95,0,0.5)"
   ]
  },
  {
   "cell_type": "code",
   "execution_count": 18,
   "metadata": {
    "scrolled": false
   },
   "outputs": [
    {
     "data": {
      "text/plain": [
       "array([-157.95, -157.45, -156.95, -156.45, -155.95, -155.45, -154.95,\n",
       "       -154.45, -153.95, -153.45, -152.95, -152.45, -151.95, -151.45,\n",
       "       -150.95, -150.45, -149.95, -149.45, -148.95, -148.45, -147.95,\n",
       "       -147.45, -146.95, -146.45, -145.95, -145.45, -144.95, -144.45,\n",
       "       -143.95, -143.45, -142.95, -142.45, -141.95, -141.45, -140.95,\n",
       "       -140.45, -139.95, -139.45, -138.95, -138.45, -137.95, -137.45,\n",
       "       -136.95, -136.45, -135.95, -135.45, -134.95, -134.45, -133.95,\n",
       "       -133.45, -132.95, -132.45, -131.95, -131.45, -130.95, -130.45,\n",
       "       -129.95, -129.45, -128.95, -128.45, -127.95, -127.45, -126.95,\n",
       "       -126.45, -125.95, -125.45, -124.95, -124.45, -123.95, -123.45,\n",
       "       -122.95, -122.45, -121.95, -121.45, -120.95, -120.45, -119.95,\n",
       "       -119.45, -118.95, -118.45, -117.95, -117.45, -116.95, -116.45,\n",
       "       -115.95, -115.45, -114.95, -114.45, -113.95, -113.45, -112.95,\n",
       "       -112.45, -111.95, -111.45, -110.95, -110.45, -109.95, -109.45,\n",
       "       -108.95, -108.45, -107.95, -107.45, -106.95, -106.45, -105.95,\n",
       "       -105.45, -104.95, -104.45, -103.95, -103.45, -102.95, -102.45,\n",
       "       -101.95, -101.45, -100.95, -100.45,  -99.95,  -99.45,  -98.95,\n",
       "        -98.45,  -97.95,  -97.45,  -96.95,  -96.45,  -95.95,  -95.45,\n",
       "        -94.95,  -94.45,  -93.95,  -93.45,  -92.95,  -92.45,  -91.95,\n",
       "        -91.45,  -90.95,  -90.45,  -89.95,  -89.45,  -88.95,  -88.45,\n",
       "        -87.95,  -87.45,  -86.95,  -86.45,  -85.95,  -85.45,  -84.95,\n",
       "        -84.45,  -83.95,  -83.45,  -82.95,  -82.45,  -81.95,  -81.45,\n",
       "        -80.95,  -80.45,  -79.95,  -79.45,  -78.95,  -78.45,  -77.95,\n",
       "        -77.45,  -76.95,  -76.45,  -75.95,  -75.45,  -74.95,  -74.45,\n",
       "        -73.95,  -73.45,  -72.95,  -72.45,  -71.95,  -71.45,  -70.95,\n",
       "        -70.45,  -69.95,  -69.45,  -68.95,  -68.45,  -67.95,  -67.45,\n",
       "        -66.95,  -66.45,  -65.95,  -65.45,  -64.95,  -64.45,  -63.95,\n",
       "        -63.45,  -62.95,  -62.45,  -61.95,  -61.45,  -60.95,  -60.45,\n",
       "        -59.95,  -59.45,  -58.95,  -58.45,  -57.95,  -57.45,  -56.95,\n",
       "        -56.45,  -55.95,  -55.45,  -54.95,  -54.45,  -53.95,  -53.45,\n",
       "        -52.95,  -52.45,  -51.95,  -51.45,  -50.95,  -50.45,  -49.95,\n",
       "        -49.45,  -48.95,  -48.45,  -47.95,  -47.45,  -46.95,  -46.45,\n",
       "        -45.95,  -45.45,  -44.95,  -44.45,  -43.95,  -43.45,  -42.95,\n",
       "        -42.45,  -41.95,  -41.45,  -40.95,  -40.45,  -39.95,  -39.45,\n",
       "        -38.95,  -38.45,  -37.95,  -37.45,  -36.95,  -36.45,  -35.95,\n",
       "        -35.45,  -34.95,  -34.45,  -33.95,  -33.45,  -32.95,  -32.45,\n",
       "        -31.95,  -31.45,  -30.95,  -30.45,  -29.95,  -29.45,  -28.95,\n",
       "        -28.45,  -27.95,  -27.45,  -26.95,  -26.45,  -25.95,  -25.45,\n",
       "        -24.95,  -24.45,  -23.95,  -23.45,  -22.95,  -22.45,  -21.95,\n",
       "        -21.45,  -20.95,  -20.45,  -19.95,  -19.45,  -18.95,  -18.45,\n",
       "        -17.95,  -17.45,  -16.95,  -16.45,  -15.95,  -15.45,  -14.95,\n",
       "        -14.45,  -13.95,  -13.45,  -12.95,  -12.45,  -11.95,  -11.45,\n",
       "        -10.95,  -10.45,   -9.95,   -9.45,   -8.95,   -8.45,   -7.95,\n",
       "         -7.45,   -6.95,   -6.45,   -5.95,   -5.45,   -4.95,   -4.45,\n",
       "         -3.95,   -3.45,   -2.95,   -2.45,   -1.95,   -1.45,   -0.95,\n",
       "         -0.45])"
      ]
     },
     "execution_count": 18,
     "metadata": {},
     "output_type": "execute_result"
    }
   ],
   "source": [
    "v"
   ]
  },
  {
   "cell_type": "code",
   "execution_count": 32,
   "metadata": {},
   "outputs": [],
   "source": [
    "f = [((2*math.pi)**-1)*(5*10**-9*((1.3637*10**-3)*(1-vo/0.6)**-0.5))**-0.5 for vo in v]"
   ]
  },
  {
   "cell_type": "code",
   "execution_count": 33,
   "metadata": {},
   "outputs": [
    {
     "data": {
      "image/png": "[encoded data removed]",
      "text/plain": [
       "<Figure size 432x288 with 1 Axes>"
      ]
     },
     "metadata": {
      "needs_background": "light"
     },
     "output_type": "display_data"
    }
   ],
   "source": [
    "\n",
    "fig, ax = plt.subplots()\n",
    "ax.plot(v, f)\n",
    "\n",
    "ax.set(xlabel='voltage (V)', ylabel='Frequency (Hz)')\n",
    "\n",
    "ax.grid()\n",
    "plt.show()\n"
   ]
  },
  {
   "cell_type": "code",
   "execution_count": null,
   "metadata": {},
   "outputs": [],
   "source": []
  }
 ],
 "metadata": {
  "kernelspec": {
   "display_name": "Python 3",
   "language": "python",
   "name": "python3"
  },
  "language_info": {
   "codemirror_mode": {
    "name": "ipython",
    "version": 3
   },
   "file_extension": ".py",
   "mimetype": "text/x-python",
   "name": "python",
   "nbconvert_exporter": "python",
   "pygments_lexer": "ipython3",
   "version": "3.7.4"
  }
 },
 "nbformat": 4,
 "nbformat_minor": 4
}
