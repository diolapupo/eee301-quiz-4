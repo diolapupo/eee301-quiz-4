{
 "cells": [
  {
   "cell_type": "code",
   "execution_count": 3,
   "metadata": {},
   "outputs": [],
   "source": [
    "import matplotlib\n",
    "import matplotlib.pyplot as plt\n",
    "import numpy as np\n",
    "import math"
   ]
  },
  {
   "cell_type": "code",
   "execution_count": 16,
   "metadata": {},
   "outputs": [],
   "source": [
    "v = np.arange(-157.95,0.5,0.5)"
   ]
  },
  {
   "cell_type": "code",
   "execution_count": 17,
   "metadata": {
    "scrolled": false
   },
   "outputs": [
    {
     "data": {
      "text/plain": [
       "array([-1.5795e+02, -1.5745e+02, -1.5695e+02, -1.5645e+02, -1.5595e+02,\n",
       "       -1.5545e+02, -1.5495e+02, -1.5445e+02, -1.5395e+02, -1.5345e+02,\n",
       "       -1.5295e+02, -1.5245e+02, -1.5195e+02, -1.5145e+02, -1.5095e+02,\n",
       "       -1.5045e+02, -1.4995e+02, -1.4945e+02, -1.4895e+02, -1.4845e+02,\n",
       "       -1.4795e+02, -1.4745e+02, -1.4695e+02, -1.4645e+02, -1.4595e+02,\n",
       "       -1.4545e+02, -1.4495e+02, -1.4445e+02, -1.4395e+02, -1.4345e+02,\n",
       "       -1.4295e+02, -1.4245e+02, -1.4195e+02, -1.4145e+02, -1.4095e+02,\n",
       "       -1.4045e+02, -1.3995e+02, -1.3945e+02, -1.3895e+02, -1.3845e+02,\n",
       "       -1.3795e+02, -1.3745e+02, -1.3695e+02, -1.3645e+02, -1.3595e+02,\n",
       "       -1.3545e+02, -1.3495e+02, -1.3445e+02, -1.3395e+02, -1.3345e+02,\n",
       "       -1.3295e+02, -1.3245e+02, -1.3195e+02, -1.3145e+02, -1.3095e+02,\n",
       "       -1.3045e+02, -1.2995e+02, -1.2945e+02, -1.2895e+02, -1.2845e+02,\n",
       "       -1.2795e+02, -1.2745e+02, -1.2695e+02, -1.2645e+02, -1.2595e+02,\n",
       "       -1.2545e+02, -1.2495e+02, -1.2445e+02, -1.2395e+02, -1.2345e+02,\n",
       "       -1.2295e+02, -1.2245e+02, -1.2195e+02, -1.2145e+02, -1.2095e+02,\n",
       "       -1.2045e+02, -1.1995e+02, -1.1945e+02, -1.1895e+02, -1.1845e+02,\n",
       "       -1.1795e+02, -1.1745e+02, -1.1695e+02, -1.1645e+02, -1.1595e+02,\n",
       "       -1.1545e+02, -1.1495e+02, -1.1445e+02, -1.1395e+02, -1.1345e+02,\n",
       "       -1.1295e+02, -1.1245e+02, -1.1195e+02, -1.1145e+02, -1.1095e+02,\n",
       "       -1.1045e+02, -1.0995e+02, -1.0945e+02, -1.0895e+02, -1.0845e+02,\n",
       "       -1.0795e+02, -1.0745e+02, -1.0695e+02, -1.0645e+02, -1.0595e+02,\n",
       "       -1.0545e+02, -1.0495e+02, -1.0445e+02, -1.0395e+02, -1.0345e+02,\n",
       "       -1.0295e+02, -1.0245e+02, -1.0195e+02, -1.0145e+02, -1.0095e+02,\n",
       "       -1.0045e+02, -9.9950e+01, -9.9450e+01, -9.8950e+01, -9.8450e+01,\n",
       "       -9.7950e+01, -9.7450e+01, -9.6950e+01, -9.6450e+01, -9.5950e+01,\n",
       "       -9.5450e+01, -9.4950e+01, -9.4450e+01, -9.3950e+01, -9.3450e+01,\n",
       "       -9.2950e+01, -9.2450e+01, -9.1950e+01, -9.1450e+01, -9.0950e+01,\n",
       "       -9.0450e+01, -8.9950e+01, -8.9450e+01, -8.8950e+01, -8.8450e+01,\n",
       "       -8.7950e+01, -8.7450e+01, -8.6950e+01, -8.6450e+01, -8.5950e+01,\n",
       "       -8.5450e+01, -8.4950e+01, -8.4450e+01, -8.3950e+01, -8.3450e+01,\n",
       "       -8.2950e+01, -8.2450e+01, -8.1950e+01, -8.1450e+01, -8.0950e+01,\n",
       "       -8.0450e+01, -7.9950e+01, -7.9450e+01, -7.8950e+01, -7.8450e+01,\n",
       "       -7.7950e+01, -7.7450e+01, -7.6950e+01, -7.6450e+01, -7.5950e+01,\n",
       "       -7.5450e+01, -7.4950e+01, -7.4450e+01, -7.3950e+01, -7.3450e+01,\n",
       "       -7.2950e+01, -7.2450e+01, -7.1950e+01, -7.1450e+01, -7.0950e+01,\n",
       "       -7.0450e+01, -6.9950e+01, -6.9450e+01, -6.8950e+01, -6.8450e+01,\n",
       "       -6.7950e+01, -6.7450e+01, -6.6950e+01, -6.6450e+01, -6.5950e+01,\n",
       "       -6.5450e+01, -6.4950e+01, -6.4450e+01, -6.3950e+01, -6.3450e+01,\n",
       "       -6.2950e+01, -6.2450e+01, -6.1950e+01, -6.1450e+01, -6.0950e+01,\n",
       "       -6.0450e+01, -5.9950e+01, -5.9450e+01, -5.8950e+01, -5.8450e+01,\n",
       "       -5.7950e+01, -5.7450e+01, -5.6950e+01, -5.6450e+01, -5.5950e+01,\n",
       "       -5.5450e+01, -5.4950e+01, -5.4450e+01, -5.3950e+01, -5.3450e+01,\n",
       "       -5.2950e+01, -5.2450e+01, -5.1950e+01, -5.1450e+01, -5.0950e+01,\n",
       "       -5.0450e+01, -4.9950e+01, -4.9450e+01, -4.8950e+01, -4.8450e+01,\n",
       "       -4.7950e+01, -4.7450e+01, -4.6950e+01, -4.6450e+01, -4.5950e+01,\n",
       "       -4.5450e+01, -4.4950e+01, -4.4450e+01, -4.3950e+01, -4.3450e+01,\n",
       "       -4.2950e+01, -4.2450e+01, -4.1950e+01, -4.1450e+01, -4.0950e+01,\n",
       "       -4.0450e+01, -3.9950e+01, -3.9450e+01, -3.8950e+01, -3.8450e+01,\n",
       "       -3.7950e+01, -3.7450e+01, -3.6950e+01, -3.6450e+01, -3.5950e+01,\n",
       "       -3.5450e+01, -3.4950e+01, -3.4450e+01, -3.3950e+01, -3.3450e+01,\n",
       "       -3.2950e+01, -3.2450e+01, -3.1950e+01, -3.1450e+01, -3.0950e+01,\n",
       "       -3.0450e+01, -2.9950e+01, -2.9450e+01, -2.8950e+01, -2.8450e+01,\n",
       "       -2.7950e+01, -2.7450e+01, -2.6950e+01, -2.6450e+01, -2.5950e+01,\n",
       "       -2.5450e+01, -2.4950e+01, -2.4450e+01, -2.3950e+01, -2.3450e+01,\n",
       "       -2.2950e+01, -2.2450e+01, -2.1950e+01, -2.1450e+01, -2.0950e+01,\n",
       "       -2.0450e+01, -1.9950e+01, -1.9450e+01, -1.8950e+01, -1.8450e+01,\n",
       "       -1.7950e+01, -1.7450e+01, -1.6950e+01, -1.6450e+01, -1.5950e+01,\n",
       "       -1.5450e+01, -1.4950e+01, -1.4450e+01, -1.3950e+01, -1.3450e+01,\n",
       "       -1.2950e+01, -1.2450e+01, -1.1950e+01, -1.1450e+01, -1.0950e+01,\n",
       "       -1.0450e+01, -9.9500e+00, -9.4500e+00, -8.9500e+00, -8.4500e+00,\n",
       "       -7.9500e+00, -7.4500e+00, -6.9500e+00, -6.4500e+00, -5.9500e+00,\n",
       "       -5.4500e+00, -4.9500e+00, -4.4500e+00, -3.9500e+00, -3.4500e+00,\n",
       "       -2.9500e+00, -2.4500e+00, -1.9500e+00, -1.4500e+00, -9.5000e-01,\n",
       "       -4.5000e-01,  5.0000e-02])"
      ]
     },
     "execution_count": 17,
     "metadata": {},
     "output_type": "execute_result"
    }
   ],
   "source": [
    "v"
   ]
  },
  {
   "cell_type": "code",
   "execution_count": 18,
   "metadata": {},
   "outputs": [],
   "source": [
    "f = [1/(2*math.pi*math.sqrt(5e-9*1.3637e-3*3.716e-9*math.sqrt(1-vo/0.6))) for vo in v]"
   ]
  },
  {
   "cell_type": "code",
   "execution_count": 19,
   "metadata": {},
   "outputs": [
    {
     "data": {
      "image/png": "[encoded data removed]",
      "text/plain": [
       "<Figure size 432x288 with 1 Axes>"
      ]
     },
     "metadata": {
      "needs_background": "light"
     },
     "output_type": "display_data"
    }
   ],
   "source": [
    "\n",
    "fig, ax = plt.subplots()\n",
    "ax.plot(v, f)\n",
    "\n",
    "ax.set(xlabel='voltage (V)', ylabel='Frequency (Hz)')\n",
    "\n",
    "ax.grid()\n",
    "plt.show()\n"
   ]
  },
  {
   "cell_type": "code",
   "execution_count": null,
   "metadata": {},
   "outputs": [],
   "source": []
  }
 ],
 "metadata": {
  "kernelspec": {
   "display_name": "Python 3",
   "language": "python",
   "name": "python3"
  },
  "language_info": {
   "codemirror_mode": {
    "name": "ipython",
    "version": 3
   },
   "file_extension": ".py",
   "mimetype": "text/x-python",
   "name": "python",
   "nbconvert_exporter": "python",
   "pygments_lexer": "ipython3",
   "version": "3.7.4"
  }
 },
 "nbformat": 4,
 "nbformat_minor": 4
}
